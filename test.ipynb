{
 "cells": [
  {
   "cell_type": "code",
   "execution_count": 1,
   "metadata": {},
   "outputs": [],
   "source": [
    "import cv2\n",
    "import numpy as np\n",
    "from matplotlib import pyplot as plt\n",
    "\n",
    "from skimage.filters import threshold_otsu\n",
    "from skimage import morphology\n"
   ]
  },
  {
   "cell_type": "code",
   "execution_count": 2,
   "metadata": {},
   "outputs": [],
   "source": [
    "\n",
    "def normalize(img):\n",
    "    \"\"\"Normalize image\"\"\"\n",
    "\n",
    "    im = np.copy(img).astype(np.float32)\n",
    "    norm_im = (img - np.min(im)) / (np.max(im) - np.min(im))\n",
    "    norm_im = (norm_im * 255).astype(np.uint8)\n",
    "\n",
    "    return norm_im\n",
    "\n",
    "def otsu(img):\n",
    "    t = threshold_otsu(img)\n",
    "    retval = np.zeros_like(img).astype(np.uint8)\n",
    "    retval[img > t] = 255\n",
    "    return retval\n",
    "\n",
    "def invert_uint8(img):\n",
    "    retval = np.zeros_like(img)\n",
    "    retval[img == 0] = 255\n",
    "    return retval\n",
    "\n",
    "\n",
    "def box_overlay(img, left, right, top, bottom):\n",
    "\n",
    "    overlay = np.zeros_like(img)\n",
    "    overlay[top:bottom, left] = [0, 0, 255]\n",
    "    overlay[top:bottom, right] = [0, 0, 255]\n",
    "    overlay[top, left:right] = [0, 0, 255]\n",
    "    overlay[bottom, left:right] = [0, 0, 255]\n",
    "\n",
    "    return overlay"
   ]
  },
  {
   "cell_type": "code",
   "execution_count": 3,
   "metadata": {},
   "outputs": [],
   "source": [
    "class Object():\n",
    "    \n",
    "    def __init__(self, center, bbox, bbox_color):\n",
    "        \"\"\"\n",
    "        Object class constructor\n",
    "\n",
    "        Parameters\n",
    "        ----------\n",
    "        position : [tuple(int x, int y)]\n",
    "        bbox : [tuple(int top, int left, int bottom, int right)]\n",
    "\n",
    "        Returns\n",
    "        -------\n",
    "        None.\n",
    "\n",
    "        \"\"\"\n",
    "        self._center = center\n",
    "        self._bbox = bbox\n",
    "        self._bbox_color = bbox_color\n",
    "\n",
    "    def get_bbox_mask(self, in_img):\n",
    "\n",
    "        mask = np.zeros_like(in_img, dtype=np.uint8)\n",
    "        mask[self._bbox[0]:self._bbox[2], self._bbox[1]] = self._bbox_color\n",
    "        mask[self._bbox[0]:self._bbox[2], self._bbox[3]] = self._bbox_color\n",
    "        mask[self._bbox[0], self._bbox[1]:self._bbox[3]] = self._bbox_color\n",
    "        mask[self._bbox[2], self._bbox[1]:self._bbox[3]] = self._bbox_color\n",
    "\n",
    "        return mask"
   ]
  },
  {
   "cell_type": "code",
   "execution_count": 4,
   "metadata": {},
   "outputs": [],
   "source": [
    "from skimage.segmentation import clear_border\n",
    "from skimage.measure import label, regionprops\n",
    "from skimage.color import label2rgb"
   ]
  },
  {
   "cell_type": "code",
   "execution_count": 5,
   "metadata": {},
   "outputs": [
    {
     "name": "stderr",
     "output_type": "stream",
     "text": [
      "qt.qpa.plugin: Could not find the Qt platform plugin \"wayland\" in \"/home/maxime/mambaforge/envs/test/lib/python3.11/site-packages/cv2/qt/plugins\"\n"
     ]
    }
   ],
   "source": [
    "vid = cv2.VideoCapture(0)\n",
    "\n",
    "while(True):\n",
    "\n",
    "    ret, frame = vid.read()\n",
    "\n",
    "    norm = normalize(frame)\n",
    "    gray = cv2.cvtColor(norm, cv2.COLOR_BGR2GRAY)\n",
    "    bin = invert_uint8(otsu(gray))\n",
    "    cleared = clear_border(bin)\n",
    "    label_image = label(cleared)\n",
    "    image_label_overlay = label2rgb(label_image, image=frame, bg_label=0)\n",
    "    \n",
    "    obj_lst = []\n",
    "    for region in regionprops(label_image):\n",
    "        if region.area >= 100:\n",
    "            obj_lst.append(\n",
    "                Object(\n",
    "                    center=region.centroid,\n",
    "                    bbox=region.bbox,\n",
    "                    bbox_color=[0,0,255]\n",
    "                )\n",
    "            )\n",
    "\n",
    "    if len(obj_lst) == 0:\n",
    "        overlayed = frame.copy()\n",
    "    else:\n",
    "        for i, obj in enumerate(obj_lst):\n",
    "            if i == 0:\n",
    "                overlayed = cv2.addWeighted(\n",
    "                    src1=frame,\n",
    "                    alpha=1,\n",
    "                    src2=obj.get_bbox_mask(frame),\n",
    "                    beta=0.5,\n",
    "                    gamma=0\n",
    "                )\n",
    "            else:\n",
    "                overlayed = cv2.addWeighted(\n",
    "                    src1=overlayed,\n",
    "                    alpha=1,\n",
    "                    src2=obj.get_bbox_mask(frame),\n",
    "                    beta=0.5,\n",
    "                    gamma=0\n",
    "                )\n",
    "\n",
    "\n",
    "    cv2.imshow(\"frame\", frame)\n",
    "    cv2.imshow(\"processed\", overlayed)\n",
    "\n",
    "    if cv2.waitKey(1) & 0xFF == ord(\"q\"):\n",
    "        break\n",
    "\n",
    "vid.release()\n",
    "cv2.destroyAllWindows()"
   ]
  },
  {
   "cell_type": "code",
   "execution_count": null,
   "metadata": {},
   "outputs": [],
   "source": []
  }
 ],
 "metadata": {
  "kernelspec": {
   "display_name": "webcam_test",
   "language": "python",
   "name": "python3"
  },
  "language_info": {
   "codemirror_mode": {
    "name": "ipython",
    "version": 3
   },
   "file_extension": ".py",
   "mimetype": "text/x-python",
   "name": "python",
   "nbconvert_exporter": "python",
   "pygments_lexer": "ipython3",
   "version": "3.11.7"
  }
 },
 "nbformat": 4,
 "nbformat_minor": 2
}
